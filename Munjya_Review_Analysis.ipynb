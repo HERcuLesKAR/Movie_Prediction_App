{
 "cells": [
  {
   "cell_type": "code",
   "execution_count": 1,
   "id": "5d93de8b-0da6-4643-97cb-6dd5ab275ef4",
   "metadata": {},
   "outputs": [],
   "source": [
    "import requests\n",
    "from bs4 import BeautifulSoup\n",
    "from textblob import TextBlob\n",
    "import matplotlib.pyplot as plt"
   ]
  },
  {
   "cell_type": "code",
   "execution_count": 2,
   "id": "6ded355e-5293-4b6c-a94e-4ff38eca3e33",
   "metadata": {},
   "outputs": [
    {
     "name": "stdout",
     "output_type": "stream",
     "text": [
      "Scraped 25 reviews and ratings.\n"
     ]
    }
   ],
   "source": [
    "def get_reviews_and_ratings(url):\n",
    "    reviews_and_ratings = []\n",
    "    response = requests.get(url)\n",
    "    soup = BeautifulSoup(response.text, 'html.parser')\n",
    "    review_divs = soup.find_all('div', class_='text show-more__control')\n",
    "    rating_spans = soup.find_all('span', class_='rating-other-user-rating')\n",
    "\n",
    "    for review_div, rating_span in zip(review_divs, rating_spans):\n",
    "        review = review_div.text\n",
    "        rating = int(rating_span.find('span').text)\n",
    "        reviews_and_ratings.append({'review': review, 'rating': rating})\n",
    "\n",
    "    return reviews_and_ratings\n",
    "\n",
    "# Example URL for the movie reviews page (Replace with the actual URL)\n",
    "url = 'https://www.imdb.com/title/tt27995594/reviews/?ref_=tt_ov_rt'\n",
    "reviews_and_ratings = get_reviews_and_ratings(url)\n",
    "print(f\"Scraped {len(reviews_and_ratings)} reviews and ratings.\")"
   ]
  },
  {
   "cell_type": "code",
   "execution_count": 3,
   "id": "98a7ff77-221b-44c2-a238-3520e5c54282",
   "metadata": {},
   "outputs": [
    {
     "name": "stdout",
     "output_type": "stream",
     "text": [
      "Review 1:\n",
      "Rating: 8\n",
      "Review: Movie is very much entertaining and brings new content in Horror/Ghost version.Keep in mind its a horror-comedy so it will lack in horror part for sure.Highlighting part is acting-casting-locations-story tellingCasting suits perfectly coz some actors are regional which makes it much more relatable.Further comedy is not forced and its natural. Not cringe jokes or movie reference jokesPlus making this universe such a diversified urges you to want some more.From east side of India in Bhediya to Munjya in Maharashtra ...Hats off ...Hope to see the logical and entertaining connection with other movies of this universe.\n",
      "\n",
      "Review 2:\n",
      "Rating: 6\n",
      "Review: Munjya, the latest entrant in the horror-comedy universe, offers a blend of spooky thrills and light-hearted moments, though it falls short of the standards set by \"Stree\" and \"Bhediya.\" But, it still manages to be a marginally better watch than \"Roohi.\" Munjya is not the perfect horror comedy, but it brings something new to the table. A blend of horror and comedy is well supported by some effective CGI work that brings the ghostly elements to life.Directed by Aditya Sarpotdar, who is known for his impressive work in Marathi cinema, \"Munjya\" stands out with its unique script and engaging narrative. The film's story, while intriguing, is somewhat let down by its uneven execution. The first half has a few loose ends that might leave audiences scratching their heads, but the second half picks up the pace, delivering a captivating experience. Saurabh Goswami's cinematography successfully creates a spooky atmosphere that complements the film's tone. The background music score and VFX are other highlights.The cast of Munjya delivers commendable performances, despite the film's weaker star power compared to its genre counterparts. Abhay Verma shines as Bittu, convincingly portraying the character's fear. Sharvari impresses with her acting too. Sathyaraj, as the quirky godman, delivers an amusing performance, and Taranjot Singh provides many laughs as well. Mona Singh, though given limited screen time, is effortlessly impactful in her scenes. One of the film's highlights is its end-credit scene, following the Taras song. Do not miss it!Direction 3/5\n",
      "Acting 3/5\n",
      "Cinematography 3.5/5\n",
      "Story 3/5\n",
      "Screenplay 2.5/5.\n",
      "\n",
      "Review 3:\n",
      "Rating: 7\n",
      "Review: Tone, Script & Story: The story is about a ghost munjya who is trapped in a tree. The ghost frees when main character visits and it gets hold of him. Now they set on a journey to marry ghost his love or will they able to destroy ghost without consequences.When I first watched trailer I expected comedy and no lives lost but when you watch movie this jumbles a little. Apart from that its commendable effort. The movie reminded me of movie Roohi which I feel is better made counterpart.Direction, Screenplay, Cinematography: It was good, the ghost, daadi sequences, the adjoining scenarios are really filmed well. One more movie Chota Bheem has been released, is a letdown in this area.Music: Music is above average. Many people can be find it humming out. Acting: Sometimes the supernatural sequences involving humans seem overdone or dim but budget wise seem okay.Final Verdict: The movie is eye pleasing and good with songs and scenes. It's a commendable effort to be a full paisa wasool package. Do watch it u won't be disappointed.\n",
      "\n",
      "Review 4:\n",
      "Rating: 10\n",
      "Review: Honestly,\n",
      "Stree was one of the finest from Bollywood in horror comedy genre. Munjya lives up to the expectations too. Following a similar theme like stree, maddok films once again delivered for stree universe fans, they will definitely love it. Munjya is definitely 80% as good as stree with a little known starcast in lead roles.Songs :: Highlight is again Sachin Jigar Music after Bhediya. 'Tenu Khabar Nahi' is one of the finest , even film contains many version of these soulful song , even a non-arijit sad version along with the original score.Presentation :: Acting wise Mona Singh, Sharvari Wagh and our own Katappa(Sathyaraj) was excellent. Rest of the cast is okayishhh with little scope for their art . Munjya(CGI) himself is sometime a little irritating and it may be because of poor supporting acting skill by protagonist Mr. Abhay Verma, needs real improvement to sustain in bollywood . Mona Singh's Madar-nandan dialogue was on point , and rest of the dialogues too ! Sharvari is quite lovely and acting is much much improved considering her last few movies or series. Sathyaraj plays his part nicely too, Ha-la-lu-la !!Overall , out an out a fun family horror movie without any adult language or scenes. My rating is 10 on 10 considering casts , CGI, presentation, story and songs ; 7 out of 10 comparing Stree.Definitely, do have a watch !!\n",
      "\n",
      "Review 5:\n",
      "Rating: 7\n",
      "Review: It's a great time killer movie. You can watch it 2-3 times without getting bored. Some scenes made me remember movies such as Tumbbad and Kantara. It's based on Tantra Vidhya. There are surprises at the end. They are developing something very big and my expectations for the future has raised. I request the makers to please work on the story and writing. I want to be engaged each and every second I watch the next big thing you are going to create with all of this. Audience already have 3 movies on the same franchise. I am excited for the future. This is just getting more interesting. Also, don't believe the negative reviewers. They will just rate anything negative. I loved this movie. 7 out of 10.\n",
      "\n"
     ]
    }
   ],
   "source": [
    "# Print the first 5 reviews and their ratings\n",
    "for i, review_and_rating in enumerate(reviews_and_ratings[:5]):\n",
    "    print(f\"Review {i+1}:\")\n",
    "    print(f\"Rating: {review_and_rating['rating']}\")\n",
    "    print(f\"Review: {review_and_rating['review']}\\n\")"
   ]
  },
  {
   "cell_type": "code",
   "execution_count": 4,
   "id": "ca0a7830-2741-43f8-8548-c59ec8d3b419",
   "metadata": {},
   "outputs": [
    {
     "name": "stdout",
     "output_type": "stream",
     "text": [
      "Positive reviews: 24\n",
      "Negative reviews: 1\n",
      "Neutral reviews: 0\n"
     ]
    }
   ],
   "source": [
    "def analyze_sentiments(reviews_and_ratings):\n",
    "    sentiments = {'positive': 0, 'negative': 0, 'neutral': 0}\n",
    "\n",
    "    for review_and_rating in reviews_and_ratings:\n",
    "        review = review_and_rating['review']\n",
    "        blob = TextBlob(review)\n",
    "        polarity = blob.sentiment.polarity\n",
    "        if polarity > 0:\n",
    "            sentiments['positive'] += 1\n",
    "        elif polarity < 0:\n",
    "            sentiments['negative'] += 1\n",
    "        else:\n",
    "            sentiments['neutral'] += 1\n",
    "\n",
    "    return sentiments\n",
    "\n",
    "sentiments = analyze_sentiments(reviews_and_ratings)\n",
    "print(f\"Positive reviews: {sentiments['positive']}\")\n",
    "print(f\"Negative reviews: {sentiments['negative']}\")\n",
    "print(f\"Neutral reviews: {sentiments['neutral']}\")"
   ]
  },
  {
   "cell_type": "code",
   "execution_count": 5,
   "id": "8515a828-b8f6-4260-bb57-7ad5ccfe301f",
   "metadata": {},
   "outputs": [
    {
     "name": "stdout",
     "output_type": "stream",
     "text": [
      "Total reviews: 25\n",
      "Positive reviews: 96.00%\n",
      "Negative reviews: 4.00%\n",
      "Neutral reviews: 0.00%\n"
     ]
    }
   ],
   "source": [
    "total_reviews = len(reviews_and_ratings)\n",
    "positive_percentage = (sentiments['positive'] / total_reviews) * 100\n",
    "negative_percentage = (sentiments['negative'] / total_reviews) * 100\n",
    "neutral_percentage = (sentiments['neutral'] / total_reviews) * 100\n",
    "\n",
    "print(f\"Total reviews: {total_reviews}\")\n",
    "print(f\"Positive reviews: {positive_percentage:.2f}%\")\n",
    "print(f\"Negative reviews: {negative_percentage:.2f}%\")\n",
    "print(f\"Neutral reviews: {neutral_percentage:.2f}%\")"
   ]
  },
  {
   "cell_type": "code",
   "execution_count": 6,
   "id": "67ff961e-7ae5-44c5-8846-dbd7bfb9a527",
   "metadata": {},
   "outputs": [
    {
     "data": {
      "image/png": "[encoded data removed]",
      "text/plain": [
       "<Figure size 1000x500 with 1 Axes>"
      ]
     },
     "metadata": {},
     "output_type": "display_data"
    }
   ],
   "source": [
    "def plot_ratings_distribution(reviews_and_ratings):\n",
    "    ratings = [review_and_rating['rating'] for review_and_rating in reviews_and_ratings]\n",
    "    plt.figure(figsize=(10, 5))\n",
    "    plt.hist(ratings, bins=range(1, 12), edgecolor='black', align='left')\n",
    "    plt.xlabel('Rating')\n",
    "    plt.ylabel('Frequency')\n",
    "    plt.title('Distribution of IMDb Ratings')\n",
    "    plt.xticks(range(1, 11))\n",
    "    plt.show()\n",
    "\n",
    "plot_ratings_distribution(reviews_and_ratings)"
   ]
  },
  {
   "cell_type": "code",
   "execution_count": null,
   "id": "b64c30c2-2e80-4a1e-a8db-f5c4a87c267e",
   "metadata": {},
   "outputs": [],
   "source": []
  }
 ],
 "metadata": {
  "kernelspec": {
   "display_name": "Python 3 (ipykernel)",
   "language": "python",
   "name": "python3"
  },
  "language_info": {
   "codemirror_mode": {
    "name": "ipython",
    "version": 3
   },
   "file_extension": ".py",
   "mimetype": "text/x-python",
   "name": "python",
   "nbconvert_exporter": "python",
   "pygments_lexer": "ipython3",
   "version": "3.11.7"
  }
 },
 "nbformat": 4,
 "nbformat_minor": 5
}
